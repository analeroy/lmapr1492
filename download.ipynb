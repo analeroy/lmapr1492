{
 "cells": [
  {
   "cell_type": "code",
   "execution_count": 17,
   "id": "strong-template",
   "metadata": {},
   "outputs": [],
   "source": [
    "#imports \n",
    "from pymatgen import Structure\n",
    "from jupyter_jsmol.pymatgen import quick_view\n",
    "from pymatgen.ext.matproj import MPRester\n",
    "from pymatgen.io.cif import CifWriter"
   ]
  },
  {
   "cell_type": "code",
   "execution_count": 18,
   "id": "unexpected-reward",
   "metadata": {},
   "outputs": [],
   "source": [
    "#création structure \n",
    "with MPRester(\"4cITfHbiVnRj5dfqR\") as m:    \n",
    "    struct = m.get_structure_by_material_id(\"mp-4636\")\n",
    "    w = CifWriter(struct)\n",
    "    w.write_file('mystructure.cif')"
   ]
  },
  {
   "cell_type": "code",
   "execution_count": 19,
   "id": "induced-ebony",
   "metadata": {},
   "outputs": [
    {
     "data": {
      "text/plain": [
       "Structure Summary\n",
       "Lattice\n",
       "    abc : 6.0244067846784715 6.0244067846784715 6.024406940771929\n",
       " angles : 31.23810414902248 31.23810414902248 31.238109042753052\n",
       " volume : 52.18432989310455\n",
       "      A : 5.801944 -1.622012 0.0\n",
       "      B : 5.801944 1.622012 0.0\n",
       "      C : 5.348489 0.0 2.77257\n",
       "PeriodicSite: Sc (8.4762, 0.0000, 1.3863) [0.5000, 0.5000, 0.5000]\n",
       "PeriodicSite: Cu (0.0000, 0.0000, 0.0000) [0.0000, 0.0000, 0.0000]\n",
       "PeriodicSite: O (15.1355, 0.0000, 2.4754) [0.8928, 0.8928, 0.8928]\n",
       "PeriodicSite: O (1.8169, 0.0000, 0.2972) [0.1072, 0.1072, 0.1072]"
      ]
     },
     "execution_count": 19,
     "metadata": {},
     "output_type": "execute_result"
    }
   ],
   "source": [
    "struct"
   ]
  },
  {
   "cell_type": "code",
   "execution_count": null,
   "id": "tight-robin",
   "metadata": {},
   "outputs": [],
   "source": []
  },
  {
   "cell_type": "code",
   "execution_count": null,
   "id": "contrary-bearing",
   "metadata": {},
   "outputs": [],
   "source": []
  }
 ],
 "metadata": {
  "kernelspec": {
   "display_name": "Python 3",
   "language": "python",
   "name": "python3"
  },
  "language_info": {
   "codemirror_mode": {
    "name": "ipython",
    "version": 3
   },
   "file_extension": ".py",
   "mimetype": "text/x-python",
   "name": "python",
   "nbconvert_exporter": "python",
   "pygments_lexer": "ipython3",
   "version": "3.6.8"
  }
 },
 "nbformat": 4,
 "nbformat_minor": 5
}
