{
 "cells": [
  {
   "cell_type": "code",
   "execution_count": 18,
   "id": "above-production",
   "metadata": {},
   "outputs": [],
   "source": [
    "#imports \n",
    "from pymatgen import Structure\n",
    "from pymatgen.ext.matproj import MPRester\n",
    "from pymatgen.io.cif import CifWriter\n",
    "from pymatgen.symmetry.analyzer import SpacegroupAnalyzer"
   ]
  },
  {
   "cell_type": "code",
   "execution_count": 19,
   "id": "single-doubt",
   "metadata": {},
   "outputs": [],
   "source": [
    "#création structure\n",
    "with MPRester(\"4cITfHbiVnRj5dfqR\") as m:\n",
    "    \n",
    "    # Structure for material id\n",
    "    structure = m.get_structure_by_material_id(\"mp-4636\")\n",
    "    \n",
    "    w = CifWriter(struct)\n",
    "    w.write_file('mystructure.cif')"
   ]
  },
  {
   "cell_type": "code",
   "execution_count": 20,
   "id": "helpful-pearl",
   "metadata": {},
   "outputs": [
    {
     "data": {
      "text/plain": [
       "Structure Summary\n",
       "Lattice\n",
       "    abc : 6.0244067846784715 6.0244067846784715 6.024406940771929\n",
       " angles : 31.23810414902248 31.23810414902248 31.238109042753052\n",
       " volume : 52.18432989310455\n",
       "      A : 5.801944 -1.622012 0.0\n",
       "      B : 5.801944 1.622012 0.0\n",
       "      C : 5.348489 0.0 2.77257\n",
       "PeriodicSite: Sc (8.4762, 0.0000, 1.3863) [0.5000, 0.5000, 0.5000]\n",
       "PeriodicSite: Cu (0.0000, 0.0000, 0.0000) [0.0000, 0.0000, 0.0000]\n",
       "PeriodicSite: O (15.1355, 0.0000, 2.4754) [0.8928, 0.8928, 0.8928]\n",
       "PeriodicSite: O (1.8169, 0.0000, 0.2972) [0.1072, 0.1072, 0.1072]"
      ]
     },
     "execution_count": 20,
     "metadata": {},
     "output_type": "execute_result"
    }
   ],
   "source": [
    "structure"
   ]
  },
  {
   "cell_type": "code",
   "execution_count": 43,
   "id": "incomplete-helena",
   "metadata": {},
   "outputs": [
    {
     "name": "stdout",
     "output_type": "stream",
     "text": [
      "Vecteur de base réseau direct :\n",
      "Longueur : a = 6.0244067846784715 °A avec comme angle carrespondant : 31.23810414902248°\n",
      "Longueur : b = 6.0244067846784715 °A avec comme angle carrespondant : 31.23810414902248°\n",
      "Longueur : c = 6.024406940771929 °A avec comme angle carrespondant : 31.238109042753052°\n"
     ]
    }
   ],
   "source": [
    "#Vecteurs de base réseau direct\n",
    "longueurs = structure.lattice.lengths\n",
    "angles = structure.lattice.angles\n",
    "print(\"Vecteur de base réseau direct :\")\n",
    "print(\"Longueur : a = {} °A avec comme angle carrespondant : {}°\".format(longueurs[0], angles[0]))\n",
    "print(\"Longueur : b = {} °A avec comme angle carrespondant : {}°\".format(longueurs[1], angles[1]))\n",
    "print(\"Longueur : c = {} °A avec comme angle carrespondant : {}°\".format(longueurs[2], angles[2]))"
   ]
  },
  {
   "cell_type": "code",
   "execution_count": 44,
   "id": "broke-lightweight",
   "metadata": {},
   "outputs": [
    {
     "name": "stdout",
     "output_type": "stream",
     "text": [
      "Vecteur de base réseau réciproque :\n",
      "Longueur : a* = 2.266195113263018 °A avec comme angle carrespondant : 117.44663156845468°\n",
      "Longueur : b* = 2.266195113263018 °A avec comme angle carrespondant : 117.44663156845468°\n",
      "Longueur : c* = 2.2661953736712097 °A avec comme angle carrespondant : 117.44661603389696°\n"
     ]
    }
   ],
   "source": [
    "#Vecteurs de base réseau réciproque\n",
    "longueurs = structure.lattice.reciprocal_lattice.lengths\n",
    "angles = structure.lattice.reciprocal_lattice.angles\n",
    "print(\"Vecteur de base réseau réciproque :\")\n",
    "print(\"Longueur : a* = {} °A avec comme angle carrespondant : {}°\".format(longueurs[0], angles[0]))\n",
    "print(\"Longueur : b* = {} °A avec comme angle carrespondant : {}°\".format(longueurs[1], angles[1]))\n",
    "print(\"Longueur : c* = {} °A avec comme angle carrespondant : {}°\".format(longueurs[2], angles[2]))"
   ]
  },
  {
   "cell_type": "code",
   "execution_count": 45,
   "id": "retired-suicide",
   "metadata": {},
   "outputs": [],
   "source": [
    "#Analyse structure\n",
    "struct = SpacegroupAnalyzer(structure)"
   ]
  },
  {
   "cell_type": "code",
   "execution_count": 46,
   "id": "lucky-toolbox",
   "metadata": {},
   "outputs": [
    {
     "name": "stdout",
     "output_type": "stream",
     "text": [
      "Type de maille : rhombohedral\n"
     ]
    }
   ],
   "source": [
    "#Type de maille\n",
    "maille = struct.get_lattice_type()\n",
    "print(\"Type de maille : {}\".format(maille))"
   ]
  },
  {
   "cell_type": "code",
   "execution_count": 47,
   "id": "worst-netherlands",
   "metadata": {},
   "outputs": [
    {
     "name": "stdout",
     "output_type": "stream",
     "text": [
      "Système cristallin : trigonal\n"
     ]
    }
   ],
   "source": [
    "#Système cristallin\n",
    "systeme_cristallin = struct.get_crystal_system()\n",
    "print(\"Système cristallin : {}\".format(systeme_cristallin))"
   ]
  },
  {
   "cell_type": "code",
   "execution_count": 42,
   "id": "illegal-acoustic",
   "metadata": {},
   "outputs": [
    {
     "name": "stdout",
     "output_type": "stream",
     "text": [
      "Groupe ponctuel : -3m\n"
     ]
    }
   ],
   "source": [
    "#Groupe ponctuel\n",
    "groupe_ponctuel = struct.get_point_group_symbol()\n",
    "print(\"Groupe ponctuel : {}\".format(groupe_ponctuel))"
   ]
  },
  {
   "cell_type": "code",
   "execution_count": null,
   "id": "worth-business",
   "metadata": {},
   "outputs": [],
   "source": []
  }
 ],
 "metadata": {
  "kernelspec": {
   "display_name": "Python 3",
   "language": "python",
   "name": "python3"
  },
  "language_info": {
   "codemirror_mode": {
    "name": "ipython",
    "version": 3
   },
   "file_extension": ".py",
   "mimetype": "text/x-python",
   "name": "python",
   "nbconvert_exporter": "python",
   "pygments_lexer": "ipython3",
   "version": "3.6.8"
  }
 },
 "nbformat": 4,
 "nbformat_minor": 5
}
