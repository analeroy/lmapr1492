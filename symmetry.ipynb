{
 "cells": [
  {
   "cell_type": "code",
   "execution_count": 62,
   "id": "hourly-background",
   "metadata": {},
   "outputs": [],
   "source": [
    "#imports \n",
    "from pymatgen import Structure\n",
    "from jupyter_jsmol.pymatgen import quick_view\n",
    "from pymatgen.ext.matproj import MPRester\n",
    "from pymatgen.io.cif import CifWriter\n",
    "from jupyter_jsmol import JsmolView\n",
    "from IPython.display import display"
   ]
  },
  {
   "cell_type": "code",
   "execution_count": 63,
   "id": "common-notice",
   "metadata": {},
   "outputs": [],
   "source": [
    "#création structure \n",
    "with MPRester(\"4cITfHbiVnRj5dfqR\") as m:    \n",
    "    struct = m.get_structure_by_material_id(\"mp-4636\")\n",
    "    w = CifWriter(struct, 0.1)\n",
    "    w.write_file('mystructure.cif')"
   ]
  },
  {
   "cell_type": "code",
   "execution_count": 64,
   "id": "dated-finance",
   "metadata": {},
   "outputs": [],
   "source": [
    "#paramètres \n",
    "Sc = [0.5, 0.5, 0.5]\n",
    "Cu = [0, 0, 0]\n",
    "O = [0.1072, 0.1072, 0.1072]"
   ]
  },
  {
   "cell_type": "code",
   "execution_count": 65,
   "id": "alpine-approach",
   "metadata": {},
   "outputs": [
    {
     "name": "stdout",
     "output_type": "stream",
     "text": [
      "Cette symétrie est une translation de l'atome Sc\n",
      "La matrice de rotation est : [[1. 0. 0.]\n",
      " [0. 1. 0.]\n",
      " [0. 0. 1.]] \n",
      "Le vecteur de translation est : [2/3, 1/3, 1/3]\n",
      "L'atome Sc va se retrouver en [1.16666667 0.83333333 0.83333333]\n"
     ]
    },
    {
     "data": {
      "application/vnd.jupyter.widget-view+json": {
       "model_id": "dac1977c04164f04873dcc04a82940a0",
       "version_major": 2,
       "version_minor": 0
      },
      "text/plain": [
       "JsmolView(layout=Layout(align_self='stretch', height='400px'))"
      ]
     },
     "metadata": {},
     "output_type": "display_data"
    }
   ],
   "source": [
    "#première opération de symmétrie : x+2/3, y+1/3, z+1/3 sur Sc\n",
    "print(\"Cette symétrie est une translation de l'atome Sc\")\n",
    "sym1 = SymmOp.from_xyz_string('x+2/3, y+1/3, z+1/3')\n",
    "op1 = sym1.operate(Sc)\n",
    "#impression des opérateurs et nouvel endroit de l'atome après symétrie\n",
    "print(\"La matrice de rotation est : {} \".format(sym1.rotation_matrix))\n",
    "print(\"Le vecteur de translation est : [2/3, 1/3, 1/3]\")\n",
    "print(\"L'atome Sc va se retrouver en {}\".format(op1))\n",
    "#visualisation\n",
    "st1 = Structure.from_file(\"mystructure.cif\")\n",
    "vue = quick_view(st1)\n",
    "display(vue)\n",
    "vue.script(\"draw symop 13 {atomno = 1}\")"
   ]
  },
  {
   "cell_type": "code",
   "execution_count": 66,
   "id": "bizarre-discount",
   "metadata": {},
   "outputs": [
    {
     "name": "stdout",
     "output_type": "stream",
     "text": [
      "Cette symétrie montre une inversion de l'atome Cu\n",
      "La matrice de rotation est : [[-1.  0.  0.]\n",
      " [ 0. -1.  0.]\n",
      " [ 0.  0. -1.]] \n",
      "Le vecteur de translation est : [0, 0, 0]\n",
      "L'atome Cu va se retrouver en [0. 0. 0.]\n"
     ]
    },
    {
     "data": {
      "application/vnd.jupyter.widget-view+json": {
       "model_id": "c428677c636143df910dbc290d67475c",
       "version_major": 2,
       "version_minor": 0
      },
      "text/plain": [
       "JsmolView(layout=Layout(align_self='stretch', height='400px'))"
      ]
     },
     "metadata": {},
     "output_type": "display_data"
    }
   ],
   "source": [
    "#deuxième opération de symmétrie : -x -y -z sur Cu\n",
    "print(\"Cette symétrie montre une inversion de l'atome Cu\")\n",
    "sym2 = SymmOp.from_xyz_string('-x, -y, -z')\n",
    "op2 = sym2.operate(Cu)\n",
    "#impression des opérateurs et nouvel endroit de l'atome après symétrie\n",
    "print(\"La matrice de rotation est : {} \".format(sym2.rotation_matrix))\n",
    "print(\"Le vecteur de translation est : [0, 0, 0]\")\n",
    "print(\"L'atome Cu va se retrouver en {}\".format(op2))\n",
    "#visualisation\n",
    "st2 = Structure.from_file(\"mystructure.cif\")\n",
    "vue = quick_view(st2)\n",
    "display(vue)\n",
    "vue.script(\"draw symop 2 {atomno = 2}\")"
   ]
  },
  {
   "cell_type": "code",
   "execution_count": 67,
   "id": "physical-layer",
   "metadata": {},
   "outputs": [
    {
     "name": "stdout",
     "output_type": "stream",
     "text": [
      "Cette symmétrie montre une rotation sur un atome O\n",
      "La matrice de rotation est : [[ 0.  1.  0.]\n",
      " [ 1.  0.  0.]\n",
      " [ 0.  0. -1.]] \n",
      "Le vecteur de translation est : [0, 0, 0]\n",
      "L'atome Cu va se retrouver en [ 0.1072  0.1072 -0.1072]\n"
     ]
    },
    {
     "data": {
      "application/vnd.jupyter.widget-view+json": {
       "model_id": "4c357e64008e4f4d93e98a364dea2fd1",
       "version_major": 2,
       "version_minor": 0
      },
      "text/plain": [
       "JsmolView(layout=Layout(align_self='stretch', height='400px'))"
      ]
     },
     "metadata": {},
     "output_type": "display_data"
    }
   ],
   "source": [
    "#troisième opération de symmétrie : y x -z sur O\n",
    "print(\"Cette symmétrie montre une rotation sur un atome O\")\n",
    "sym3 = SymmOp.from_xyz_string('y, x, -z')\n",
    "op3 = sym3.operate(O)\n",
    "#impression des opérateurs et nouvel endroit de l'atome après symétrie\n",
    "print(\"La matrice de rotation est : {} \".format(sym3.rotation_matrix))\n",
    "print(\"Le vecteur de translation est : [0, 0, 0]\")\n",
    "print(\"L'atome Cu va se retrouver en {}\".format(op3))\n",
    "#visualisation\n",
    "st3 = Structure.from_file(\"mystructure.cif\")\n",
    "vue = quick_view(st3)\n",
    "display(vue)\n",
    "vue.script(\"draw symop 7 {atomno = 3}\")"
   ]
  },
  {
   "cell_type": "code",
   "execution_count": null,
   "id": "unusual-confidentiality",
   "metadata": {},
   "outputs": [],
   "source": []
  },
  {
   "cell_type": "code",
   "execution_count": null,
   "id": "infrared-queue",
   "metadata": {},
   "outputs": [],
   "source": []
  },
  {
   "cell_type": "code",
   "execution_count": null,
   "id": "younger-enzyme",
   "metadata": {},
   "outputs": [],
   "source": []
  }
 ],
 "metadata": {
  "kernelspec": {
   "display_name": "Python 3",
   "language": "python",
   "name": "python3"
  },
  "language_info": {
   "codemirror_mode": {
    "name": "ipython",
    "version": 3
   },
   "file_extension": ".py",
   "mimetype": "text/x-python",
   "name": "python",
   "nbconvert_exporter": "python",
   "pygments_lexer": "ipython3",
   "version": "3.6.8"
  }
 },
 "nbformat": 4,
 "nbformat_minor": 5
}
